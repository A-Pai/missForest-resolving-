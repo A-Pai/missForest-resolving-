{
 "cells": [
  {
   "cell_type": "markdown",
   "id": "42fe46ae-b2f1-43f4-a400-092b24c79d13",
   "metadata": {},
   "source": [
    "## Introduction\n",
    "\n",
    "参考：\n",
    "- https://cran.r-project.org/web//packages/missForest/vignettes/missForest_1.5.pdf\n",
    "- https://blog.csdn.net/a358463121/article/details/52145260\n",
    "- https://rpubs.com/lmorgan95/MissForest\n",
    "\n",
    " missForest is running iteratively, continuously updating the imputed matrix **variable-wise**, and is **assessing its\n",
    "performance between iterations**. This assessment is done by considering the difference(s) between\n",
    "the previous imputation result and the new imputation result. As soon as this difference (in case\n",
    "of one type of variable) or differences (in case of mixed-type of variables) increase the algorithm\n",
    "stops.\n",
    "\n",
    "先对缺失值做一个初始的猜测，比如用均值/中位数填充，然后按照变量的缺失率，从小到大排序，先对缺失率小的变量使用随机森林分类/回归从而填补该变量的缺失值，然后一直迭代，直到最新的一次填补结果与上一次的填补结果不再变化（变化很小）时停止。  \n",
    "\n",
    "**Advantages:**\n",
    "\n",
    "- Can be applied to **mixed data types** (missings in numeric & categorical variables)\n",
    "- **No pre-processing** required (no dummy-coding, standardization, data splitting, etc.)\n",
    "- **No assumptions** required (aside from the normal assumption of being MAR/MCAR)\n",
    "- **Robust to noisy data**, as random forests effectively have build-in feature selection. Methods like KNN imputation will have poor predictions in datasets with weak & non-informative predictors, whereas `missForest()` will make little to no use of these features\n",
    "- **Non-parametric**: makes no assumptions about the relationship between the features, unlike MICE which assumes linearity\n",
    "- Excellent **predictive power**\n",
    "- Can leverage **non-linear** and **interaction effects** between features to improve imputation accuracy\n",
    "- Gives an **OOB error estimate** for its predictions (Numeric: NRMSE/MSE, Categorical: PFC)\n",
    "- Works with **high dimensionality data** (p≫n)\n",
    "\n",
    "\n",
    "\n",
    "**Disadvantages:**\n",
    "\n",
    "- **Imputation time**, which increases with the number of observations, predictors and number of predictors containing missing values\n",
    "- It inherits the same **lack of interpretability** of random forests\n",
    "- **It is an algorithm**, not a model object you can store somewhere. This means it has to run each time missing data has to be imputed, which could be problematic in some production environments\n"
   ]
  },
  {
   "cell_type": "markdown",
   "id": "2c6ac250-bb3a-4cea-83e9-7fa3af301cae",
   "metadata": {},
   "source": [
    "### Description\n",
    "\n",
    "'missForest' is used to impute missing values particularly in the case of mixed-type data. It can be used to impute continuous and/or categorical data including complex interactions and nonlinear relations. It yields an out-of-bag (OOB) imputation error estimate. Moreover, it can be run parallel to save computation time.\n",
    "\n",
    "### Usage\n",
    "\n",
    "```r\n",
    "missForest(xmis, maxiter = 10, ntree = 100, variablewise = FALSE,\n",
    "                       decreasing = FALSE, verbose = FALSE,\n",
    "                       mtry = floor(sqrt(ncol(xmis))), replace = TRUE,\n",
    "                       classwt = NULL, cutoff = NULL, strata = NULL,\n",
    "                       sampsize = NULL, nodesize = NULL, maxnodes = NULL,\n",
    "                       xtrue = NA, parallelize = c('no', 'variables', 'forests'))\n",
    "```\n",
    "\n",
    "### Arguments\n",
    "\n",
    "|                |                                                              |\n",
    "| -------------- | ------------------------------------------------------------ |\n",
    "| `xmis`         | a data matrix with missing values. The columns correspond to the variables and the rows to the observations. |\n",
    "| `maxiter`      | maximum number of iterations to be performed given the stopping criterion is not met beforehand. |\n",
    "| `ntree`        | number of trees to grow in each forest.                      |\n",
    "| `variablewise` | logical. If 'TRUE' the OOB error is returned for each variable separately. This can be useful as a reliability check for the imputed variables w.r.t. to a subsequent data analysis. |\n",
    "| `decreasing`   | logical. If 'FALSE' then the variables are sorted w.r.t. increasing amount of missing entries during computation. |\n",
    "| `verbose`      | logical. If 'TRUE' the user is supplied with additional output between iterations, i.e., estimated imputation error, runtime and if complete data matrix is supplied the true imputation error. See 'xtrue'. |\n",
    "| `mtry`         | number of variables randomly sampled at each split. This argument is directly supplied to the 'randomForest' function. Note that the default value is sqrt(p) for both categorical and continuous variables where p is the number of variables in 'xmis'. |\n",
    "| `replace`      | logical. If 'TRUE' bootstrap sampling (with replacements) is performed else subsampling (without replacements). |\n",
    "| `classwt`      | list of priors of the classes in the categorical variables. This is equivalent to the randomForest argument, however, the user has to set the priors for all categorical variables in the data set (for continuous variables set it 'NULL'). |\n",
    "| `cutoff`       | list of class cutoffs for each categorical variable. Same as with 'classwt' (for continuous variables set it '1'). |\n",
    "| `strata`       | list of (factor) variables used for stratified sampling. Same as with 'classwt' (for continuous variables set it 'NULL'). |\n",
    "| `sampsize`     | list of size(s) of sample to draw. This is equivalent to the randomForest argument, however, the user has to set the sizes for all variables. |\n",
    "| `nodesize`     | minimum size of terminal nodes. Has to be a vector of length 2, with the first entry being the number for continuous variables and the second entry the number for categorical variables. Default is 1 for continuous and 5 for categorical variables. |\n",
    "| `maxnodes`     | maximum number of terminal nodes for trees in the forest.    |\n",
    "| `xtrue`        | optional. Complete data matrix. This can be supplied to test the performance. Upon providing the complete data matrix 'verbose' will show the true imputation error after each iteration and the output will also contain the final true imputation error. |\n",
    "| `parallelize`  | should 'missForest' be run parallel. **Default is 'no'**. If 'variables' the data is split into pieces of the size equal to the number of cores registered in the parallel backend. If 'forests' the total number of trees in each random forests is split in the same way. Whether 'variables' or 'forests' is more suitable, depends on the data. See Details. |\n",
    "\n",
    "### Value\n",
    "\n",
    "|            |                                                              |\n",
    "| ---------- | ------------------------------------------------------------ |\n",
    "| `ximp`     | imputed data matrix of same type as 'xmis'.                  |\n",
    "| `OOBerror` | estimated OOB imputation error. For the set of continuous variables in 'xmis' the NRMSE and for the set of categorical variables the proportion of falsely classified entries is returned. See Details for the exact definition of these error measures. If 'variablewise' is set to 'TRUE' then this will be a vector of length 'p' where 'p' is the number of variables and the entries will be the OOB error for each variable separately. |\n",
    "| `error`    | true imputation error. This is only available if 'xtrue' was supplied. The error measures are the same as for 'OOBerror'. |\n",
    "\n",
    "### See Also\n",
    "\n",
    "```\n",
    "mixError`, `prodNA`, `randomForest\n",
    "```"
   ]
  },
  {
   "cell_type": "markdown",
   "id": "54613672-4e95-47f1-b197-5ddbd6fad240",
   "metadata": {},
   "source": [
    "**Description of the data used**\n",
    "\n",
    "- Iris data This complete data set contains ﬁve variables of which one is categorical with three\n",
    "levels. It is contained in the R base and can be loaded directly by typing data(iris).\n",
    "\n",
    "- Oesophageal cancer data This complete data set comes from a case-control study of oe-\n",
    "sophageal cancer in Ile-et-Vilaine, France. It is contained in the R base and can be loaded\n",
    "directly by typing data(esoph)."
   ]
  },
  {
   "cell_type": "code",
   "execution_count": 1,
   "id": "c56f21d0-7ef6-49a7-b746-60a598874bb1",
   "metadata": {},
   "outputs": [],
   "source": [
    "options(warn=-1)    #忽略一切警告\n",
    "options('width'=140)  #充分利用打印宽度\n",
    "options(repr.plot.width=15, repr.plot.height=10)  #满幅"
   ]
  },
  {
   "cell_type": "code",
   "execution_count": 2,
   "id": "c8f997fd-cf19-40f1-8e38-7e88b23cc131",
   "metadata": {},
   "outputs": [
    {
     "name": "stdout",
     "output_type": "stream",
     "text": [
      "── Data Summary ────────────────────────\n",
      "                           Values\n",
      "Name                       data  \n",
      "Number of rows             150   \n",
      "Number of columns          5     \n",
      "_______________________          \n",
      "Column type frequency:           \n",
      "  factor                   1     \n",
      "  numeric                  4     \n",
      "________________________         \n",
      "Group variables            None  \n",
      "\n",
      "── Variable type: factor ───────────────────────────────────────────────────────────────────────────────────────────────────────────────────\n",
      "  skim_variable n_missing complete_rate ordered n_unique top_counts               \n",
      "\u001b[90m1\u001b[39m Species               0             1 FALSE          3 set: 50, ver: 50, vir: 50\n",
      "\n",
      "── Variable type: numeric ──────────────────────────────────────────────────────────────────────────────────────────────────────────────────\n",
      "  skim_variable n_missing complete_rate mean    sd  p0 p25  p50 p75 p100 hist \n",
      "\u001b[90m1\u001b[39m Sepal.Length          0             1 5.84 0.828 4.3 5.1 5.8  6.4  7.9 ▆▇▇▅▂\n",
      "\u001b[90m2\u001b[39m Sepal.Width           0             1 3.06 0.436 2   2.8 3    3.3  4.4 ▁▆▇▂▁\n",
      "\u001b[90m3\u001b[39m Petal.Length          0             1 3.76 1.77  1   1.6 4.35 5.1  6.9 ▇▁▆▇▂\n",
      "\u001b[90m4\u001b[39m Petal.Width           0             1 1.20 0.762 0.1 0.3 1.3  1.8  2.5 ▇▁▇▅▃\n"
     ]
    }
   ],
   "source": [
    "library(pacman)\n",
    "\n",
    "options(warn = -1) # 忽略一切警告\n",
    "options(\"width\" = 140) # 充分利用打印宽度\n",
    "options(repr.plot.width = 15, repr.plot.height = 10) # 满幅\n",
    "\n",
    "p_load(missForest)\n",
    "p_load(randomForest)\n",
    "p_load(skimr)\n",
    "s <- skim_tee\n",
    "\n",
    "s(iris)\n",
    "## The data contains four continuous and one categorical variable."
   ]
  },
  {
   "cell_type": "code",
   "execution_count": 3,
   "id": "c3a6a1d1-0bd2-4941-bb49-4e8d6e6d9607",
   "metadata": {},
   "outputs": [
    {
     "name": "stdout",
     "output_type": "stream",
     "text": [
      "── Data Summary ────────────────────────\n",
      "                           Values\n",
      "Name                       data  \n",
      "Number of rows             150   \n",
      "Number of columns          5     \n",
      "_______________________          \n",
      "Column type frequency:           \n",
      "  factor                   1     \n",
      "  numeric                  4     \n",
      "________________________         \n",
      "Group variables            None  \n",
      "\n",
      "── Variable type: factor ───────────────────────────────────────────────────────────────────────────────────────────────────────────────────\n",
      "  skim_variable n_missing complete_rate ordered n_unique top_counts               \n",
      "\u001b[90m1\u001b[39m Species              29         0.807 FALSE          3 set: 42, ver: 40, vir: 39\n",
      "\n",
      "── Variable type: numeric ──────────────────────────────────────────────────────────────────────────────────────────────────────────────────\n",
      "  skim_variable n_missing complete_rate mean    sd  p0 p25  p50  p75 p100 hist \n",
      "\u001b[90m1\u001b[39m Sepal.Length         24         0.84  5.83 0.852 4.3 5.1 5.75 6.4   7.9 ▆▇▇▅▂\n",
      "\u001b[90m2\u001b[39m Sepal.Width          32         0.787 3.07 0.449 2   2.8 3    3.38  4.4 ▂▆▇▃▁\n",
      "\u001b[90m3\u001b[39m Petal.Length         33         0.78  3.85 1.77  1   1.6 4.4  5.1   6.9 ▇▁▆▇▃\n",
      "\u001b[90m4\u001b[39m Petal.Width          32         0.787 1.17 0.776 0.1 0.3 1.3  1.8   2.5 ▇▂▆▃▃\n"
     ]
    }
   ],
   "source": [
    "## Artificially produce missing values using the 'prodNA' function:\n",
    "set.seed(81)\n",
    "iris.mis <- prodNA(iris, noNA = 0.2)\n",
    "s(iris.mis)"
   ]
  },
  {
   "cell_type": "markdown",
   "id": "d2a78396-2377-4ddc-be11-d376a3a33000",
   "metadata": {},
   "source": [
    "## missForest in a nutshell"
   ]
  },
  {
   "cell_type": "code",
   "execution_count": 16,
   "id": "0d232e91-7d82-44e5-8f40-1f1a9ad3b790",
   "metadata": {},
   "outputs": [],
   "source": [
    "iris.imp <- missForest(iris.mis)"
   ]
  },
  {
   "cell_type": "markdown",
   "id": "c7325ec3-c80e-4189-b6de-386bb0e8ae7d",
   "metadata": {},
   "source": [
    "The results are stored in the R object iris.imp which is a list. We can call upon the imputed data matrix by typing\n",
    "iris.imp$ximp. "
   ]
  },
  {
   "cell_type": "code",
   "execution_count": 17,
   "id": "6a40261c-739e-47f0-a472-a858d5a3b389",
   "metadata": {},
   "outputs": [
    {
     "name": "stdout",
     "output_type": "stream",
     "text": [
      "── Data Summary ────────────────────────\n",
      "                           Values\n",
      "Name                       data  \n",
      "Number of rows             150   \n",
      "Number of columns          5     \n",
      "_______________________          \n",
      "Column type frequency:           \n",
      "  factor                   1     \n",
      "  numeric                  4     \n",
      "________________________         \n",
      "Group variables            None  \n",
      "\n",
      "── Variable type: factor ───────────────────────────────────────────────────────────────────────────────────────────────────────────────────\n",
      "  skim_variable n_missing complete_rate ordered n_unique top_counts               \n",
      "\u001b[90m1\u001b[39m Species               0             1 FALSE          3 ver: 51, vir: 50, set: 49\n",
      "\n",
      "── Variable type: numeric ──────────────────────────────────────────────────────────────────────────────────────────────────────────────────\n",
      "  skim_variable n_missing complete_rate mean    sd  p0  p25  p50  p75 p100 hist \n",
      "\u001b[90m1\u001b[39m Sepal.Length          0             1 5.84 0.819 4.3 5.10 5.8  6.40  7.9 ▅▇▇▅▂\n",
      "\u001b[90m2\u001b[39m Sepal.Width           0             1 3.06 0.439 2   2.8  3    3.3   4.4 ▂▆▇▃▁\n",
      "\u001b[90m3\u001b[39m Petal.Length          0             1 3.77 1.73  1   1.59 4.34 5.08  6.9 ▇▁▆▇▂\n",
      "\u001b[90m4\u001b[39m Petal.Width           0             1 1.20 0.757 0.1 0.3  1.3  1.8   2.5 ▇▁▇▅▅\n"
     ]
    }
   ],
   "source": [
    "s(iris.imp$ximp)"
   ]
  },
  {
   "cell_type": "code",
   "execution_count": 18,
   "id": "c854ca28-fc1b-4b5f-821f-db9074cddec8",
   "metadata": {},
   "outputs": [
    {
     "data": {
      "text/html": [
       "<style>\n",
       ".dl-inline {width: auto; margin:0; padding: 0}\n",
       ".dl-inline>dt, .dl-inline>dd {float: none; width: auto; display: inline-block}\n",
       ".dl-inline>dt::after {content: \":\\0020\"; padding-right: .5ex}\n",
       ".dl-inline>dt:not(:first-of-type) {padding-left: .5ex}\n",
       "</style><dl class=dl-inline><dt>NRMSE</dt><dd>0.144584692361686</dd><dt>PFC</dt><dd>0.0495867768595041</dd></dl>\n"
      ],
      "text/latex": [
       "\\begin{description*}\n",
       "\\item[NRMSE] 0.144584692361686\n",
       "\\item[PFC] 0.0495867768595041\n",
       "\\end{description*}\n"
      ],
      "text/markdown": [
       "NRMSE\n",
       ":   0.144584692361686PFC\n",
       ":   0.0495867768595041\n",
       "\n"
      ],
      "text/plain": [
       "     NRMSE        PFC \n",
       "0.14458469 0.04958678 "
      ]
     },
     "metadata": {},
     "output_type": "display_data"
    }
   ],
   "source": [
    "iris.imp$OOBerror"
   ]
  },
  {
   "cell_type": "markdown",
   "id": "91a95f87-5216-4338-af83-ec25b53b5831",
   "metadata": {},
   "source": [
    "- NRMSE：normalized root mean squared error\n",
    "- PFC：proportion of falsely classified\n",
    "\n",
    "In both cases good performance of missForest leads to a value close to 0 and bad performance to a value around 1."
   ]
  },
  {
   "cell_type": "markdown",
   "id": "ec1e27f6-c41b-4ba6-9780-7454d1e9b28b",
   "metadata": {},
   "source": [
    "**If you are interested in assessing the reliability of the imputation for single variables, e.g., to\n",
    "decide which variables to use in a subsequent data analysis, missForest can return the OOB\n",
    "errors for each variable separately instead of aggregating over the whole data matrix. This can\n",
    "be done using the argument variablewise = TRUE when calling the missForest function.**"
   ]
  },
  {
   "cell_type": "code",
   "execution_count": 19,
   "id": "692b3bcb-2b93-44cc-ada7-04a4cfc1696e",
   "metadata": {},
   "outputs": [
    {
     "data": {
      "text/html": [
       "<style>\n",
       ".dl-inline {width: auto; margin:0; padding: 0}\n",
       ".dl-inline>dt, .dl-inline>dd {float: none; width: auto; display: inline-block}\n",
       ".dl-inline>dt::after {content: \":\\0020\"; padding-right: .5ex}\n",
       ".dl-inline>dt:not(:first-of-type) {padding-left: .5ex}\n",
       "</style><dl class=dl-inline><dt>MSE</dt><dd>0.128624142352276</dd><dt>MSE</dt><dd>0.0900147393639975</dd><dt>MSE</dt><dd>0.0757511616480157</dd><dt>MSE</dt><dd>0.03065805427454</dd><dt>PFC</dt><dd>0.0330578512396694</dd></dl>\n"
      ],
      "text/latex": [
       "\\begin{description*}\n",
       "\\item[MSE] 0.128624142352276\n",
       "\\item[MSE] 0.0900147393639975\n",
       "\\item[MSE] 0.0757511616480157\n",
       "\\item[MSE] 0.03065805427454\n",
       "\\item[PFC] 0.0330578512396694\n",
       "\\end{description*}\n"
      ],
      "text/markdown": [
       "MSE\n",
       ":   0.128624142352276MSE\n",
       ":   0.0900147393639975MSE\n",
       ":   0.0757511616480157MSE\n",
       ":   0.03065805427454PFC\n",
       ":   0.0330578512396694\n",
       "\n"
      ],
      "text/plain": [
       "       MSE        MSE        MSE        MSE        PFC \n",
       "0.12862414 0.09001474 0.07575116 0.03065805 0.03305785 "
      ]
     },
     "metadata": {},
     "output_type": "display_data"
    }
   ],
   "source": [
    "missForest(iris.mis, variablewise = TRUE)$OOBerror"
   ]
  },
  {
   "cell_type": "markdown",
   "id": "a4814857-65e4-4586-8994-23aed573c35c",
   "metadata": {},
   "source": [
    "We can see that the output has the same length as there are variables in the data. For each\n",
    "variable the resulting error and the type of error measure, i.e., mean squared error (MSE) or\n",
    "PFC, is returned. Note that we are not using the NRMSE here."
   ]
  },
  {
   "cell_type": "markdown",
   "id": "f4b8c4d5-4405-41f2-b394-035e50ed0902",
   "metadata": {},
   "source": [
    "## Additional output using verbose"
   ]
  },
  {
   "cell_type": "markdown",
   "id": "6604a1a6-6bff-4c15-856b-78ccc1234600",
   "metadata": {},
   "source": [
    "If verbose = ’TRUE’ ,return with additional output between iterations,\n",
    "i.e., estimated imputation error, runtime and if complete data matrix is supplied\n",
    "the true imputation error."
   ]
  },
  {
   "cell_type": "code",
   "execution_count": 20,
   "id": "c0c46879-7734-4bb1-9535-a05b968f31c8",
   "metadata": {},
   "outputs": [
    {
     "name": "stdout",
     "output_type": "stream",
     "text": [
      "  missForest iteration 1 in progress...done!\n",
      "    error(s): 0.2013623 0.03448276 \n",
      "    estimated error(s): 0.1601467 0.0661157 \n",
      "    difference(s): 0.01203429 0.1466667 \n",
      "    time: 0.06 seconds\n",
      "\n",
      "  missForest iteration 2 in progress...done!\n",
      "    error(s): 0.2061798 0.03448276 \n",
      "    estimated error(s): 0.1447976 0.04958678 \n",
      "    difference(s): 0.0001436753 0 \n",
      "    time: 0.1 seconds\n",
      "\n",
      "  missForest iteration 3 in progress...done!\n",
      "    error(s): 0.2119893 0.03448276 \n",
      "    estimated error(s): 0.1433477 0.04132231 \n",
      "    difference(s): 5.520233e-05 0 \n",
      "    time: 0.06 seconds\n",
      "\n",
      "  missForest iteration 4 in progress...done!\n",
      "    error(s): 0.2138112 0.03448276 \n",
      "    estimated error(s): 0.1443437 0.04958678 \n",
      "    difference(s): 4.134513e-05 0 \n",
      "    time: 0.06 seconds\n",
      "\n",
      "  missForest iteration 5 in progress...done!\n",
      "    error(s): 0.2183323 0.03448276 \n",
      "    estimated error(s): 0.139025 0.04958678 \n",
      "    difference(s): 4.394775e-05 0 \n",
      "    time: 0.08 seconds\n",
      "\n"
     ]
    }
   ],
   "source": [
    "set.seed(81)\n",
    "iris.imp <- missForest(iris.mis, xtrue = iris, verbose = TRUE)"
   ]
  },
  {
   "cell_type": "markdown",
   "id": "856f0caa-4f73-4795-a472-110c0c14cef3",
   "metadata": {},
   "source": [
    "- error(s) ：(缺失值)相对于真实值的错误(如果提供了xtrue)\n",
    "- estimated error(s) ：The OOB imputation error estimate for the continuous and categorical\n",
    "parts of the imputed data set. Note: If there is only one type of variable there will be only\n",
    "one value with the corresponding error measure.--基于非缺失值，OOB的估计值的误差变化\n",
    "- difference(s) ：The difference between the previous and the new imputed continuous and cat\n",
    "egorical parts of the data set.--基于缺失值，二次之间的变化情况\n",
    "\n",
    "**note**\n",
    "1. After each iteration the difference between the previous and the new imputed data matrix is assessed for the continuous and categorical parts.\n",
    "2. The stopping criterion is defined such that the imputation process is stopped as soon as both differences have become larger once.\n",
    "3. In case of only one type of variable the computation stops as soon as the corresponding difference goes up for the first time.\n",
    "4. However, the imputation last performed where both differences went up is generally less accurate than the previous one. Therefore, whenever the computation stops due to the stopping criterion (and not due to 'maxiter') the before last imputation matrix is returned.**\n",
    "\n"
   ]
  },
  {
   "cell_type": "code",
   "execution_count": 10,
   "id": "aaa1403d-b9f7-44fb-bb5b-5c62c2794303",
   "metadata": {},
   "outputs": [
    {
     "data": {
      "text/html": [
       "<style>\n",
       ".dl-inline {width: auto; margin:0; padding: 0}\n",
       ".dl-inline>dt, .dl-inline>dd {float: none; width: auto; display: inline-block}\n",
       ".dl-inline>dt::after {content: \":\\0020\"; padding-right: .5ex}\n",
       ".dl-inline>dt:not(:first-of-type) {padding-left: .5ex}\n",
       "</style><dl class=dl-inline><dt>NRMSE</dt><dd>0.144343710776309</dd><dt>PFC</dt><dd>0.0495867768595041</dd></dl>\n"
      ],
      "text/latex": [
       "\\begin{description*}\n",
       "\\item[NRMSE] 0.144343710776309\n",
       "\\item[PFC] 0.0495867768595041\n",
       "\\end{description*}\n"
      ],
      "text/markdown": [
       "NRMSE\n",
       ":   0.144343710776309PFC\n",
       ":   0.0495867768595041\n",
       "\n"
      ],
      "text/plain": [
       "     NRMSE        PFC \n",
       "0.14434371 0.04958678 "
      ]
     },
     "metadata": {},
     "output_type": "display_data"
    }
   ],
   "source": [
    "iris.imp$OOBerror   #填补误差的估计，取自difference增大前的一次迭代"
   ]
  },
  {
   "cell_type": "markdown",
   "id": "e973250b-604f-4586-ae1c-9815ca579ec2",
   "metadata": {},
   "source": [
    "## Changing the number of iterations with maxiter"
   ]
  },
  {
   "cell_type": "markdown",
   "id": "ddd11761-8a1c-431b-83ac-5fd43bc6756d",
   "metadata": {},
   "source": [
    "if the diﬀerence between iterations is seriously shrinking\n",
    "towards nought and the estimated error is in a stalemate the only way to keep computation time\n",
    "at a reasonable level is to limit the number of iterations using the argument maxiter."
   ]
  },
  {
   "cell_type": "code",
   "execution_count": 24,
   "id": "1ded4692-b884-4aa8-8657-e6d15d81f401",
   "metadata": {},
   "outputs": [
    {
     "name": "stdout",
     "output_type": "stream",
     "text": [
      "── Data Summary ────────────────────────\n",
      "                           Values\n",
      "Name                       data  \n",
      "Number of rows             88    \n",
      "Number of columns          5     \n",
      "_______________________          \n",
      "Column type frequency:           \n",
      "  factor                   3     \n",
      "  numeric                  2     \n",
      "________________________         \n",
      "Group variables            None  \n",
      "\n",
      "── Variable type: factor ───────────────────────────────────────────────────────────────────────────────────────────────────────────────────\n",
      "  skim_variable n_missing complete_rate ordered n_unique top_counts                        \n",
      "\u001b[90m1\u001b[39m agegp                 5         0.943 TRUE           6 55-: 16, 45-: 15, 25-: 14, 35-: 14\n",
      "\u001b[90m2\u001b[39m alcgp                 5         0.943 TRUE           4 0-3: 22, 40-: 22, 120: 20, 80-: 19\n",
      "\u001b[90m3\u001b[39m tobgp                 5         0.943 TRUE           4 10-: 23, 0-9: 21, 20-: 20, 30+: 19\n",
      "\n",
      "── Variable type: numeric ──────────────────────────────────────────────────────────────────────────────────────────────────────────────────\n",
      "  skim_variable n_missing complete_rate mean    sd p0 p25 p50 p75 p100 hist \n",
      "\u001b[90m1\u001b[39m ncases                5         0.943 2.34  2.80  0   0   2   4   17 ▇▂▁▁▁\n",
      "\u001b[90m2\u001b[39m ncontrols             2         0.977 8.94 12.2   0   1   4  10   60 ▇▁▁▁▁\n"
     ]
    }
   ],
   "source": [
    "data(esoph)\n",
    "esoph.mis <- prodNA(esoph, 0.05)\n",
    "s(esoph.mis)"
   ]
  },
  {
   "cell_type": "code",
   "execution_count": 25,
   "id": "2137b49c-4d7d-4748-ac10-bf87316be71f",
   "metadata": {},
   "outputs": [
    {
     "name": "stdout",
     "output_type": "stream",
     "text": [
      "  missForest iteration 1 in progress...done!\n",
      "    estimated error(s): 0.5114959 0.686747 \n",
      "    difference(s): 0.001339828 0.04924242 \n",
      "    time: 0.05 seconds\n",
      "\n",
      "  missForest iteration 2 in progress...done!\n",
      "    estimated error(s): 0.4342053 0.6506024 \n",
      "    difference(s): 0.0001624316 0.003787879 \n",
      "    time: 0.03 seconds\n",
      "\n",
      "  missForest iteration 3 in progress...done!\n",
      "    estimated error(s): 0.4520883 0.7028112 \n",
      "    difference(s): 3.275361e-05 0.007575758 \n",
      "    time: 0.03 seconds\n",
      "\n",
      "  missForest iteration 4 in progress...done!\n",
      "    estimated error(s): 0.4642958 0.6827309 \n",
      "    difference(s): 3.086518e-05 0.01136364 \n",
      "    time: 0.05 seconds\n",
      "\n",
      "  missForest iteration 5 in progress...done!\n",
      "    estimated error(s): 0.4203652 0.6666667 \n",
      "    difference(s): 0.0002101057 0.007575758 \n",
      "    time: 0.03 seconds\n",
      "\n",
      "  missForest iteration 6 in progress...done!\n",
      "    estimated error(s): 0.4119456 0.6626506 \n",
      "    difference(s): 0.0001025898 0.003787879 \n",
      "    time: 0.03 seconds\n",
      "\n",
      "  missForest iteration 7 in progress...done!\n",
      "    estimated error(s): 0.4868466 0.6746988 \n",
      "    difference(s): 8.241955e-05 0.003787879 \n",
      "    time: 0.03 seconds\n",
      "\n",
      "  missForest iteration 8 in progress...done!\n",
      "    estimated error(s): 0.4509935 0.6907631 \n",
      "    difference(s): 5.050934e-06 0.003787879 \n",
      "    time: 0.05 seconds\n",
      "\n",
      "  missForest iteration 9 in progress...done!\n",
      "    estimated error(s): 0.4366259 0.6425703 \n",
      "    difference(s): 4.260953e-05 0.003787879 \n",
      "    time: 0.03 seconds\n",
      "\n"
     ]
    }
   ],
   "source": [
    "set.seed(96)\n",
    "esoph.imp <- missForest(esoph.mis, verbose = TRUE)"
   ]
  },
  {
   "cell_type": "markdown",
   "id": "16ce8339-4518-40ce-833e-de338fd57563",
   "metadata": {},
   "source": [
    "the diﬀerence in the continuous part of the data set is still reduced\n",
    "in each iteration up until iteration 9"
   ]
  },
  {
   "cell_type": "markdown",
   "id": "cee93dac-2ffe-4dbb-bbcd-04c16dca4ab1",
   "metadata": {},
   "source": [
    "**In the above\n",
    "case of the esoph data we can get the result of the sixth iteration by doing the following:**"
   ]
  },
  {
   "cell_type": "code",
   "execution_count": 26,
   "id": "96123978-97a8-472a-afc7-571ad48f5c3a",
   "metadata": {},
   "outputs": [
    {
     "name": "stdout",
     "output_type": "stream",
     "text": [
      "  missForest iteration 1 in progress...done!\n",
      "    estimated error(s): 0.5114959 0.686747 \n",
      "    difference(s): 0.001339828 0.04924242 \n",
      "    time: 0.05 seconds\n",
      "\n",
      "  missForest iteration 2 in progress...done!\n",
      "    estimated error(s): 0.4342053 0.6506024 \n",
      "    difference(s): 0.0001624316 0.003787879 \n",
      "    time: 0.03 seconds\n",
      "\n",
      "  missForest iteration 3 in progress...done!\n",
      "    estimated error(s): 0.4520883 0.7028112 \n",
      "    difference(s): 3.275361e-05 0.007575758 \n",
      "    time: 0.05 seconds\n",
      "\n",
      "  missForest iteration 4 in progress...done!\n",
      "    estimated error(s): 0.4642958 0.6827309 \n",
      "    difference(s): 3.086518e-05 0.01136364 \n",
      "    time: 0.03 seconds\n",
      "\n",
      "  missForest iteration 5 in progress...done!\n",
      "    estimated error(s): 0.4203652 0.6666667 \n",
      "    difference(s): 0.0002101057 0.007575758 \n",
      "    time: 0.03 seconds\n",
      "\n",
      "  missForest iteration 6 in progress...done!\n",
      "    estimated error(s): 0.4119456 0.6626506 \n",
      "    difference(s): 0.0001025898 0.003787879 \n",
      "    time: 0.03 seconds\n",
      "\n"
     ]
    }
   ],
   "source": [
    "set.seed(96)\n",
    "esoph.imp <- missForest(esoph.mis, verbose = TRUE, maxiter = 6)"
   ]
  },
  {
   "cell_type": "markdown",
   "id": "7debf561-bf5c-42e2-aa42-b6bb6bbadc12",
   "metadata": {},
   "source": [
    "The returned result is now given by iteration 6. Quintessentially, there are two uses for the\n",
    "maxiter argument:\n",
    "1. Controlling the run time in case of stagnating performance;\n",
    "2. extract a preferred iteration result not supplied by the stopping criterion."
   ]
  },
  {
   "cell_type": "markdown",
   "id": "6dedf9c1-637b-4bb2-8958-e75b8eabc24b",
   "metadata": {},
   "source": [
    "## Speed and accuracy trade-oﬀ manipulating mtry and ntree"
   ]
  },
  {
   "cell_type": "markdown",
   "id": "a51d6961-f19a-4c6f-8258-d5f3d589c1d0",
   "metadata": {},
   "source": [
    "missForest grows in each iteration for each variable a random forest to impute the missing\n",
    "values. With a large number of variables p this can lead to computation times beyond today’s\n",
    "perception of feasibility. There are two ways to speed up the imputation process of missForest:\n",
    "1. Reducing the number of trees grown in each forest using the argument ntree;\n",
    "\n",
    "2. reducing the number of variables randomly sampled at each split using the argument mtry.\n",
    "\n",
    "It is imperative to know that reducing either of these numbers will probably result in reduced\n",
    "accuracy. This is why we speak of a speed and accuracy trade-oﬀ."
   ]
  },
  {
   "cell_type": "markdown",
   "id": "0f51f41c-601c-4b34-af1f-4a36f7a6b4b9",
   "metadata": {},
   "source": [
    "## Testing the appropriateness by supplying xtrue"
   ]
  },
  {
   "attachments": {},
   "cell_type": "markdown",
   "id": "a53961ce-6cb3-4852-9be5-a14cb8129ee4",
   "metadata": {},
   "source": [
    "Whenever imputing data with real missing values the question arises how good the imputation\n",
    "was. In missForest the estimated OOB imputation error gives a nice indication at what you\n",
    "have to expect. A wary user might want to make an additional assessment (or back the OOB\n",
    "estimate up) by performing cross-validation or – in the optimal case – testing missForest\n",
    "previously on complete data. For both cases missForest oﬀers the xtrue argument which\n",
    "simply takes in the same data matrix as xmis but with no missing values present.\n",
    "\n",
    "We can simplify the above strategy by using xtrue.If combined with verbose = TRUE the\n",
    "user even gets additional information on the performance of missForest between iterations:"
   ]
  },
  {
   "cell_type": "code",
   "execution_count": 29,
   "id": "e1ef8325-4933-4826-bfdf-70c4d0f7fedf",
   "metadata": {},
   "outputs": [
    {
     "name": "stdout",
     "output_type": "stream",
     "text": [
      "  missForest iteration 1 in progress...done!\n",
      "    error(s): 0.2080787 0.03448276 \n",
      "    estimated error(s): 0.1596026 0.07438017 \n",
      "    difference(s): 0.01203859 0.1466667 \n",
      "    time: 0.11 seconds\n",
      "\n",
      "  missForest iteration 2 in progress...done!\n",
      "    error(s): 0.2153769 0.03448276 \n",
      "    estimated error(s): 0.145999 0.04132231 \n",
      "    difference(s): 0.0001822433 0 \n",
      "    time: 0.06 seconds\n",
      "\n",
      "  missForest iteration 3 in progress...done!\n",
      "    error(s): 0.2158092 0.03448276 \n",
      "    estimated error(s): 0.1445526 0.04958678 \n",
      "    difference(s): 3.156033e-05 0 \n",
      "    time: 0.06 seconds\n",
      "\n",
      "  missForest iteration 4 in progress...done!\n",
      "    error(s): 0.214517 0.03448276 \n",
      "    estimated error(s): 0.1441032 0.04958678 \n",
      "    difference(s): 2.916028e-05 0 \n",
      "    time: 0.08 seconds\n",
      "\n",
      "  missForest iteration 5 in progress...done!\n",
      "    error(s): 0.2149281 0.03448276 \n",
      "    estimated error(s): 0.1428988 0.03305785 \n",
      "    difference(s): 4.646177e-05 0 \n",
      "    time: 0.07 seconds\n",
      "\n"
     ]
    }
   ],
   "source": [
    "iris.imp <- missForest(iris.mis, xtrue = iris, verbose = TRUE)"
   ]
  }
 ],
 "metadata": {
  "kernelspec": {
   "display_name": "R",
   "language": "R",
   "name": "ir"
  },
  "language_info": {
   "codemirror_mode": "r",
   "file_extension": ".r",
   "mimetype": "text/x-r-source",
   "name": "R",
   "pygments_lexer": "r",
   "version": "4.3.2"
  },
  "widgets": {
   "application/vnd.jupyter.widget-state+json": {
    "state": {},
    "version_major": 2,
    "version_minor": 0
   }
  }
 },
 "nbformat": 4,
 "nbformat_minor": 5
}
